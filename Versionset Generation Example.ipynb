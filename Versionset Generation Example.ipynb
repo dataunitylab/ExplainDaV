{
 "cells": [
  {
   "cell_type": "code",
   "execution_count": 11,
   "metadata": {},
   "outputs": [],
   "source": [
    "import pandas as pd\n",
    "import numpy as np\n",
    "import random\n",
    "import string\n",
    "from sklearn.model_selection import train_test_split\n",
    "from imblearn.over_sampling import SMOTENC\n",
    "from imblearn.over_sampling import RandomOverSampler\n",
    "import featuretools as ft"
   ]
  },
  {
   "cell_type": "code",
   "execution_count": 12,
   "metadata": {},
   "outputs": [],
   "source": [
    "template = 'Versions/IMDB_Ver_{}.csv'"
   ]
  },
  {
   "cell_type": "code",
   "execution_count": 13,
   "metadata": {},
   "outputs": [],
   "source": [
    "df = pd.read_csv('imdb_top_1000.csv')"
   ]
  },
  {
   "cell_type": "code",
   "execution_count": 14,
   "metadata": {},
   "outputs": [],
   "source": [
    "df = df[['Series_Title', 'Released_Year','Genre', 'Runtime', 'IMDB_Rating', 'Overview']]\n",
    "df_with_na = df.copy()\n",
    "df = df.dropna()"
   ]
  },
  {
   "cell_type": "code",
   "execution_count": 15,
   "metadata": {},
   "outputs": [],
   "source": [
    "df_valid, df_generalization = train_test_split(df, test_size=0.2, random_state=42)\n",
    "df_valid = df_valid.reset_index().drop(['index'], axis=1)\n",
    "df_generalization = df_generalization.reset_index().drop(['index'], axis=1)\n",
    "df_with_na_valid, df_with_na_generalization = train_test_split(df_with_na, test_size=0.2, random_state=42)\n",
    "df_with_na_valid = df_with_na_valid.reset_index().drop(['index'], axis=1)\n",
    "df_with_na_generalization = df_with_na_generalization.reset_index().drop(['index'], axis=1)"
   ]
  },
  {
   "cell_type": "code",
   "execution_count": 16,
   "metadata": {},
   "outputs": [],
   "source": [
    "version_counter = 0\n",
    "problem_sets = []"
   ]
  },
  {
   "cell_type": "code",
   "execution_count": 17,
   "metadata": {},
   "outputs": [],
   "source": [
    "def save_version(template, df, version_counter):\n",
    "    version_id = template.format(str(version_counter))\n",
    "    df.to_csv(version_id, index=False)\n",
    "    version_id = version_id[9:]\n",
    "    return version_id, version_counter + 1"
   ]
  },
  {
   "cell_type": "code",
   "execution_count": 19,
   "metadata": {},
   "outputs": [],
   "source": [
    "valid_version_id, version_counter = save_version(template, \n",
    "                                                 df_valid, \n",
    "                                                 version_counter)\n",
    "generalization_version_id, version_counter = save_version(template, \n",
    "                                                          df_generalization, \n",
    "                                                          version_counter)\n",
    "valid_with_na_version_id, version_counter = save_version(template, \n",
    "                                                 df_with_na_valid, \n",
    "                                                 version_counter)\n",
    "generalization_with_na_version_id, version_counter = save_version(template, \n",
    "                                                          df_with_na_generalization, \n",
    "                                                          version_counter)"
   ]
  },
  {
   "cell_type": "code",
   "execution_count": 20,
   "metadata": {},
   "outputs": [],
   "source": [
    "def generate_versions_col_no_new_T(df_valid, valid_version_id,\n",
    "                                   df_generalization, generalization_version_id,\n",
    "                                   problem_sets, version_counter,\n",
    "                                   add_column_func, setup):\n",
    "    df_prime_valid = add_column_func(df_valid)\n",
    "    df_prime_generalization = add_column_func(df_generalization)\n",
    "    \n",
    "    df_prime_valid_version, version_counter = save_version(template, \n",
    "                                                           df_prime_valid, \n",
    "                                                           version_counter)    \n",
    "    df_prime_generalization_version, version_counter = save_version(template, \n",
    "                                                                    df_prime_generalization, \n",
    "                                                                    version_counter)    \n",
    "    \n",
    "    problem_sets.append({'T_validation': valid_version_id, \n",
    "                         'T_prime_validation': df_prime_valid_version, \n",
    "                         'T_generalization': generalization_version_id, \n",
    "                         'T_prime_generalization': df_prime_generalization_version,\n",
    "                          'Setup': setup})\n",
    "    return version_counter, problem_sets"
   ]
  },
  {
   "cell_type": "code",
   "execution_count": 21,
   "metadata": {},
   "outputs": [],
   "source": [
    "def generate_versions_col_new_T(df_valid, valid_version_id,\n",
    "                                   df_generalization, generalization_version_id,\n",
    "                                   problem_sets, version_counter,\n",
    "                                   tras_column_func, setup):\n",
    "    df_valid, df_prime_valid = tras_column_func(df_valid)\n",
    "    df_generalization, df_prime_generalization = tras_column_func(df_generalization)\n",
    "    \n",
    "    valid_version_id, version_counter = save_version(template, \n",
    "                                                     df_valid, \n",
    "                                                     version_counter)\n",
    "    df_prime_valid_version, version_counter = save_version(template, \n",
    "                                                           df_prime_valid, \n",
    "                                                           version_counter)\n",
    "    generalization_version_id, version_counter = save_version(template, \n",
    "                                                              df_generalization, \n",
    "                                                              version_counter)\n",
    "    df_prime_generalization_version, version_counter = save_version(template, \n",
    "                                                                    df_prime_generalization, \n",
    "                                                                    version_counter)    \n",
    "    \n",
    "    problem_sets.append({'T_validation': valid_version_id, \n",
    "                         'T_prime_validation': df_prime_valid_version, \n",
    "                         'T_generalization': generalization_version_id, \n",
    "                         'T_prime_generalization': df_prime_generalization_version,\n",
    "                          'Setup': setup})\n",
    "    return version_counter, problem_sets"
   ]
  },
  {
   "cell_type": "code",
   "execution_count": 22,
   "metadata": {},
   "outputs": [],
   "source": [
    "def col_addition_removal_row_addition_removal_transformations1(df):\n",
    "    noise_rate_for_nans = 0.8\n",
    "    noise_rate_for_duplicate_column = 0.15\n",
    "    bootstrap_size = 5\n",
    "    sampled_size = 5\n",
    "    df_prime = df.copy()\n",
    "\n",
    "    df['Series_Title_exact_copy'] = df['Series_Title']\n",
    "    df['Series_Title_with_noise'] = df['Series_Title']\n",
    "    noise_size = int(noise_rate_for_duplicate_column * len(df))\n",
    "    sampled_data = df['Series_Title_with_noise'].sample(n=noise_size, random_state=1).tolist()\n",
    "    random_ixs = random.sample(range(len(df)), noise_size)\n",
    "    df['Series_Title_with_noise'].iloc[random_ixs] = sampled_data\n",
    "    df['Genre_with_nan_noise'] = df['Genre']\n",
    "    noise_size = int(noise_rate_for_nans * len(df))\n",
    "    random_ixs = random.sample(range(len(df)), noise_size)\n",
    "    df['Genre_with_nan_noise'].iloc[random_ixs] = pd.NaT\n",
    "    \n",
    "    df_prime = df_prime[df_prime['IMDB_Rating'] >= 8]\n",
    "    \n",
    "    df_prime = df_prime.reset_index()\n",
    "    df_prime['orig_index'] = df_prime['index']\n",
    "    df_prime = df_prime.drop(['index'], axis=1)\n",
    "    \n",
    "    bootstrapped_data = df_prime.sample(n=bootstrap_size, random_state=1)\n",
    "    bootstrapped_data['orig_index'] = list(range(len(df), len(df) + bootstrap_size))\n",
    "    bootstrapped_data.index = list(range(len(df), len(df) + bootstrap_size))\n",
    "    df_prime = df_prime.append(bootstrapped_data)\n",
    "    \n",
    "    \n",
    "    df_prime.loc[:, 'Number_of_genres'] = df_prime['Genre'].str.count(',') + 1\n",
    "    df_prime.loc[:, 'Title_len'] = df_prime['Series_Title'].str.len()\n",
    "    sep = random.sample(['.', ' ', '\\n', ',', '?'], 1)[0]\n",
    "    df_prime.loc[:, 'sep_Overview'] = df_prime['Overview'].str.count(sep)\n",
    "    # Numeric Operations:\n",
    "    df_prime.loc[:, 'IMDB_Rating_power_2_plus_price'] = (df_prime['IMDB_Rating'] * df_prime['IMDB_Rating']) + df_prime['IMDB_Rating']\n",
    "    math_trans = [np.log, np.reciprocal, np.sqrt, np.reciprocal]\n",
    "    df_prime.loc[:, 'Rating_trans'] = random.sample(math_trans, 1)[0](df_prime['IMDB_Rating'])\n",
    "    \n",
    "    df_prime.loc[:, 'IMDB_Rating_norm_sum'] = df_prime['IMDB_Rating'] / df_prime['IMDB_Rating'].sum()\n",
    "    df_prime.loc[:, 'IMDB_Rating_sub_mean'] = df_prime['IMDB_Rating'] - df_prime['IMDB_Rating'].mean()\n",
    "    df_prime.loc[:, 'IMDB_Rating_norm_minmax'] = (df_prime['IMDB_Rating'] - df_prime['IMDB_Rating'].min()) / \\\n",
    "                                           (df_prime['IMDB_Rating'].max() - df_prime['IMDB_Rating'].min())\n",
    "    df_prime['is_top_movie'] = 0\n",
    "    df_prime.loc[df_prime['IMDB_Rating'] > random.uniform(8, 10), 'is_top_movie'] = 1\n",
    "    df_prime.loc[:, 'Rating_on_1_to_2_scale'] = pd.qcut(df_prime['IMDB_Rating'], 2, labels=False)\n",
    "    \n",
    "    df_prime.loc[:, 'random_score'] = np.random.randint(0, 100, size=(len(df_prime), 1))\n",
    "    \n",
    "    df_prime[\"Genre_code\"] = df_prime[\"Genre\"].astype('category').cat.codes\n",
    "    \n",
    "    new_columns_order = [col for col in df_prime.columns if col != 'orig_index'] + ['orig_index', ]\n",
    "    df_prime = df_prime[new_columns_order]\n",
    "    return df, df_prime"
   ]
  },
  {
   "cell_type": "code",
   "execution_count": 23,
   "metadata": {},
   "outputs": [
    {
     "name": "stderr",
     "output_type": "stream",
     "text": [
      "<ipython-input-22-b1b47468f0c2>:28: FutureWarning: The frame.append method is deprecated and will be removed from pandas in a future version. Use pandas.concat instead.\n",
      "  df_prime = df_prime.append(bootstrapped_data)\n",
      "<ipython-input-22-b1b47468f0c2>:28: FutureWarning: The frame.append method is deprecated and will be removed from pandas in a future version. Use pandas.concat instead.\n",
      "  df_prime = df_prime.append(bootstrapped_data)\n"
     ]
    }
   ],
   "source": [
    "version_counter, problem_sets = generate_versions_col_new_T(df_with_na_valid.copy(), valid_with_na_version_id,\n",
    "                                                               df_with_na_generalization.copy(), generalization_with_na_version_id,\n",
    "                                                               problem_sets, version_counter,\n",
    "                                                               col_addition_removal_row_addition_removal_transformations1, 'mixed_mixed_mixed_rows_mixed_columns')"
   ]
  },
  {
   "cell_type": "code",
   "execution_count": 24,
   "metadata": {},
   "outputs": [],
   "source": [
    "pd.DataFrame(problem_sets).to_csv('Versions/problem_sets.csv', index=False)"
   ]
  },
  {
   "cell_type": "code",
   "execution_count": null,
   "metadata": {},
   "outputs": [],
   "source": []
  }
 ],
 "metadata": {
  "kernelspec": {
   "display_name": "Python 3",
   "language": "python",
   "name": "python3"
  },
  "language_info": {
   "codemirror_mode": {
    "name": "ipython",
    "version": 3
   },
   "file_extension": ".py",
   "mimetype": "text/x-python",
   "name": "python",
   "nbconvert_exporter": "python",
   "pygments_lexer": "ipython3",
   "version": "3.8.5"
  }
 },
 "nbformat": 4,
 "nbformat_minor": 4
}
